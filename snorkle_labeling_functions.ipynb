{
 "cells": [
  {
   "cell_type": "markdown",
   "source": [
    "## iGEM labeling functions"
   ],
   "metadata": {}
  },
  {
   "cell_type": "markdown",
   "source": [
    "## example"
   ],
   "metadata": {}
  },
  {
   "cell_type": "code",
   "execution_count": 23,
   "source": [
    "import pandas as pd\r\n",
    "import numpy as np\r\n",
    "import os\r\n",
    "import nltk\r\n",
    "import regex as re\r\n",
    "import ast\r\n",
    "from collections import defaultdict\r\n",
    "# from snorkel.labeling import labeling_function"
   ],
   "outputs": [],
   "metadata": {}
  },
  {
   "cell_type": "code",
   "execution_count": 13,
   "source": [
    "# @labeling_function()\r\n",
    "def oxidation_with_sub_prod(sentence):\r\n",
    "    for word in oxidationWords:\r\n",
    "        if word in sentence.lower:\r\n",
    "            return TRUE\r\n",
    "    return ABSTAIN"
   ],
   "outputs": [],
   "metadata": {}
  },
  {
   "cell_type": "markdown",
   "source": [
    "### my functions"
   ],
   "metadata": {}
  },
  {
   "cell_type": "code",
   "execution_count": 2,
   "source": [
    "ABSTAIN = -1"
   ],
   "outputs": [],
   "metadata": {}
  },
  {
   "cell_type": "code",
   "execution_count": 6,
   "source": [
    "# LF_general_chemical\r\n",
    "# If one of the chemicals is in a list of common chemical terms such as amino acid, sugar, adenosine, amide, adenine, etc..., we label FALSE\r\n",
    "# https://www.hach.com/chemGlossary   \r\n",
    "common_chemical_terms = [\"amino acid\", \"sugar\", \"adenosine\", \"amide\", \"adenine\", \"acid\", \"algaecide\", \"amines\", \"base\", \"biocides\",\r\n",
    "    \"buffer\", \"clarifier\", \"diluent\", \"hydrocarbon\", \"hydrogenation\", \"molecule\", \"nutrients\", \"polymer\", \"peptide\", \"polypeptide\", \"solute\",\r\n",
    "    \"solvent\", \"suspended\", \"mixture\", \"saturated\", \"unsaturated\"]\r\n",
    "def general_chemical(chemicals):\r\n",
    "    for chem in chemicals:\r\n",
    "        if (chem in common_chemical_terms):\r\n",
    "            return (False)\r\n",
    "        return ABSTAIN\r\n"
   ],
   "outputs": [],
   "metadata": {}
  },
  {
   "cell_type": "code",
   "execution_count": 4,
   "source": [
    "# LF_adjacent_mentions\r\n",
    "# If the chemicals are adjacent, we label FALSE\r\n",
    "def adjacent_mentions(chemicals, sentence):\r\n",
    "    for index in range(len(chemicals)):\r\n",
    "        for index_2 in range(index + 1, len(chemicals)):\r\n",
    "            if (chemicals[index] + \" \" + chemicals[index_2] in sentence):\r\n",
    "                return False\r\n",
    "    return ABSTAIN"
   ],
   "outputs": [],
   "metadata": {}
  },
  {
   "cell_type": "code",
   "execution_count": 7,
   "source": [
    "# LF_gene_words\r\n",
    "# If one of the chemicals is in a list of genetic terms such as reductase, dna, gene, we label FALSE\r\n",
    "# \r\n",
    "common_genetic_terms = [\"reductase\", \"dna\", \"gene\", \"allele\", \"locus\", \"genotype\", \"phenotype\", \"dominant\", \"recessive\", \"additive\", \"phenoset\",\r\n",
    "    \"diallelic\", \"multiallelic\", \"polyallelic\", \"monomorphic\", \"monoallelic\", \"polymorphism\", \"mutation\", \"complex\", \"trait\", \"multifactorial\",\r\n",
    "    \"polygenic\", \"monogenic\", \"mixed model\", \"transmission probability\", \"transition probability\", \"epistasis\", \"interaction\", \"pleiotropy\",\r\n",
    "    \"quantitative trait locus\", \"probit\", \"logit\", \"penetrance\", \"transformation\", \"scale of measurement\", \"identity by descent\", \"identity in state\",\r\n",
    "    \"haplotype\", \"phase\", \"multilocus\", \"genotype\", \"allelic\", \"association\", \"linkage\", \"disequilibrium\", \"gametic\"]\r\n",
    "def gene_words(chemicals):\r\n",
    "    for chem in chemicals:\r\n",
    "        if (chem in common_genetic_terms):\r\n",
    "            return False\r\n",
    "        return ABSTAIN\r\n",
    "    "
   ],
   "outputs": [],
   "metadata": {}
  },
  {
   "cell_type": "code",
   "execution_count": 8,
   "source": [
    "# LF_sep_or\r\n",
    "# If the chemicals are separated by or, we label FALSE\r\n",
    "def sep_or(chemicals, sentence):\r\n",
    "    for index in range(len(chemicals)):\r\n",
    "        for index_2 in range(index + 1, len(chemicals)):\r\n",
    "            if (chemicals[index] + \" or \" + chemicals[index_2] in sentence):\r\n",
    "                return False\r\n",
    "    return ABSTAIN"
   ],
   "outputs": [],
   "metadata": {}
  },
  {
   "cell_type": "code",
   "execution_count": 14,
   "source": [
    "# LF_sep_and\r\n",
    "# If the chemicals are separated by and, we label FALSE\r\n",
    "def sep_and(chemicals, sentence):\r\n",
    "    for index in range(len(chemicals)):\r\n",
    "        for index_2 in range(index + 1, len(chemicals)):\r\n",
    "            if (chemicals[index] + \" and \" + chemicals[index_2] in sentence):\r\n",
    "                return False\r\n",
    "    return ABSTAIN"
   ],
   "outputs": [],
   "metadata": {}
  },
  {
   "cell_type": "code",
   "execution_count": 9,
   "source": [
    "# LF_sep_comma\r\n",
    "# If the chemicals are separated by a comma, we label FALSE\r\n",
    "def sep_comma(chemicals, sentence):\r\n",
    "    for index in range(len(chemicals)):\r\n",
    "        for index_2 in range(index + 1, len(chemicals)):\r\n",
    "            if (chemicals[index] + \", \" + chemicals[index_2] in sentence):\r\n",
    "                return False\r\n",
    "    return ABSTAIN"
   ],
   "outputs": [],
   "metadata": {}
  },
  {
   "cell_type": "code",
   "execution_count": 10,
   "source": [
    "# LF_sep_via\r\n",
    "# If the chemicals are separated by via, in, etc, we label FALSE\r\n",
    "common_via_words = [\"via\", \"in\", \"within\", \"through\", \"inside\", \"by\"]\r\n",
    "def sep_via(chemicals, sentence):\r\n",
    "    for index in range(len(chemicals)):\r\n",
    "        for index_2 in range(index + 1, len(chemicals)):\r\n",
    "            for term in common_via_words:\r\n",
    "                if (chemicals[index] + \" \" + term + \" \" + chemicals[index_2] in sentence):\r\n",
    "                    return False\r\n",
    "    return ABSTAIN"
   ],
   "outputs": [],
   "metadata": {}
  },
  {
   "cell_type": "code",
   "execution_count": 11,
   "source": [
    "# LF_sep_sym\r\n",
    "# If the chemicals are separated by a single character, we label FALSE  \r\n",
    "def sep_sym(chemicals, sentence):\r\n",
    "    for index in range(len(chemicals)):\r\n",
    "        chem_1_index = sentence.find(chemicals[index])\r\n",
    "        if (chem_1_index == -1):\r\n",
    "            continue\r\n",
    "        chem_1_len = len(chemicals[index])\r\n",
    "        for index_2 in range(index + 1, len(chemicals)):\r\n",
    "            chem_2_index = sentence.find(chemicals[index_2])\r\n",
    "            if (chem_2_index == -1):\r\n",
    "                continue\r\n",
    "            if (chem_1_index + chem_1_len + 1 == chem_2_index):\r\n",
    "                return False\r\n",
    "    return ABSTAIN"
   ],
   "outputs": [],
   "metadata": {}
  },
  {
   "cell_type": "code",
   "execution_count": 12,
   "source": [
    "# LF_followed_ase\r\n",
    "# If one of the chemicals is followed by a word that ends with -ase, we label FALSE\r\n",
    "def followed_ase(chemicals, sentence):\r\n",
    "    words = sentence.split(\" \")\r\n",
    "    for chem in chemicals:\r\n",
    "        index = words.indexOf(chem)\r\n",
    "        if (index < len(words) and words[index + 1][-3:] == \"ase\"):\r\n",
    "            return False\r\n",
    "    return ABSTAIN"
   ],
   "outputs": [],
   "metadata": {}
  },
  {
   "cell_type": "code",
   "execution_count": 15,
   "source": [
    "# LF_group\r\n",
    "# If there is a close mention of a functional chemical group, we label FALSE (as it is more likely descriptive of a structure than of a reaction)\r\n",
    "# https://www.masterorganicchemistry.com/2010/10/06/functional-groups-organic-chemistry/\r\n",
    "common_functional_groups = [\"alkane\", \"alkene\", \"alkyne\", \"benzene ring\", \"phenyl\", \"amine\", \"alcohol\", \"ether\", \"alkyl halide\", \"thiol\",\r\n",
    "    \"aldehyde\", \"ketone\", \"ester\", \"carboxylic acid\", \"amide\", \"nitrile\", \"epoxide\", \"disulfide\", \"imine\", \"acid chloride\", \"anhydride\", \"nitro\",\r\n",
    "    \"sulfide\", \"thioether\"]\r\n",
    "def group(sentence):\r\n",
    "    for group in common_functional_groups:\r\n",
    "        if (group in sentence):\r\n",
    "            return False\r\n",
    "        return ABSTAIN\r\n"
   ],
   "outputs": [],
   "metadata": {}
  },
  {
   "cell_type": "code",
   "execution_count": 99,
   "source": [
    "# LF_followed_by_noun\r\n",
    "# If one of the chemicals is followed by a noun, we label FALSE\r\n",
    "def followed_by_noun(chemicals, sentence):\r\n",
    "    sentence = sentence.replace('.', '')\r\n",
    "    words = sentence.split(\" \")\r\n",
    "    words = sentence.split(\" \")\r\n",
    "    tagged = nltk.pos_tag(words)\r\n",
    "    for chem in chemicals:\r\n",
    "        if (\" \" in chem):\r\n",
    "            chem_split = chem.split(\" \")\r\n",
    "            index = words.index(chem_split[-1])\r\n",
    "        else:\r\n",
    "            index = words.index(chem)\r\n",
    "        if (index + 1 < len(words)):\r\n",
    "            if (tagged[index + 1][1] == \"NN\"):\r\n",
    "                return False\r\n",
    "    return ABSTAIN"
   ],
   "outputs": [],
   "metadata": {}
  },
  {
   "cell_type": "code",
   "execution_count": 100,
   "source": [
    "# test cases\r\n",
    "print(followed_by_noun([\"L-GalDH\"], \"The active fractions from the gel filtration column were further separated by native PAGE, followed by staining for L-GalDH activity.\"))\r\n",
    "print(followed_by_noun([\"L-GalDH\"], \"Southern blot analysis revealed that the spinach L-GalDH gene occurs in a single copy.\"))\r\n",
    "print(followed_by_noun([\"L-GalL dehydrogenase\"], \"We reported that transcripts of L-GalL dehydrogenase (L-GalLDH), which functions at the last step of the biosynthetic pathway, were expressed in leaves, stems and roots at almost the same level (Yabuta et al. 2000).\"))\r\n",
    "print(followed_by_noun([\"L-GalDH\", \"dehydro-AsA\", \"L-GalL\"], \"The L-GalDH activity was not affected by the addition of 1 mM dehydro-AsA (DHA) or 1 mM L-GalL.\"))"
   ],
   "outputs": [
    {
     "output_type": "stream",
     "name": "stdout",
     "text": [
      "False\n",
      "False\n",
      "-1\n",
      "False\n"
     ]
    }
   ],
   "metadata": {}
  },
  {
   "cell_type": "code",
   "execution_count": 116,
   "source": [
    "# LF_sep_verb\r\n",
    "# If the chemicals are separated by a verb, we label TRUE\r\n",
    "def sep_verb(chemicals, sentence):\r\n",
    "    sentence = sentence.replace('.', '')\r\n",
    "    words = sentence.split(\" \")\r\n",
    "    indexes = []\r\n",
    "    for chem in chemicals:\r\n",
    "        if (\" \" in chem):\r\n",
    "            chem_split = chem.split(\" \")\r\n",
    "            index = words.index(chem_split[-1])\r\n",
    "        else:\r\n",
    "            index = words.index(chem)\r\n",
    "        indexes.append(index)\r\n",
    "    min_index = min(indexes)\r\n",
    "    max_index = max(indexes)\r\n",
    "    tagged = nltk.pos_tag(words)\r\n",
    "    for index in range(min_index + 1, max_index):\r\n",
    "        if (tagged[index][1][:2] == \"VB\"):\r\n",
    "            return True\r\n",
    "    return ABSTAIN"
   ],
   "outputs": [],
   "metadata": {}
  },
  {
   "cell_type": "code",
   "execution_count": 117,
   "source": [
    "# test cases\r\n",
    "print(sep_verb([\"L-GalDH\"], \"The active fractions from the gel filtration column were further separated by native PAGE, followed by staining for L-GalDH activity.\"))\r\n",
    "print(sep_verb([\"L-GalDH\"], \"Southern blot analysis revealed that the spinach L-GalDH gene occurs in a single copy.\"))\r\n",
    "print(sep_verb([\"L-GalL dehydrogenase\"], \"We reported that transcripts of L-GalL dehydrogenase (L-GalLDH), which functions at the last step of the biosynthetic pathway, were expressed in leaves, stems and roots at almost the same level (Yabuta et al. 2000).\"))\r\n",
    "print(sep_verb([\"L-GalDH\", \"dehydro-AsA\", \"L-GalL\"], \"The L-GalDH activity was not affected by the addition of 1 mM dehydro-AsA (DHA) or 1 mM L-GalL.\"))"
   ],
   "outputs": [
    {
     "output_type": "stream",
     "name": "stdout",
     "text": [
      "-1\n",
      "-1\n",
      "-1\n",
      "True\n"
     ]
    }
   ],
   "metadata": {}
  },
  {
   "cell_type": "code",
   "execution_count": 118,
   "source": [
    "# LF_sep_adverb\r\n",
    "# If the chemicals are separated by a adverb, we label FALSE\r\n",
    "def sep_adverb(chemicals, sentence):\r\n",
    "    sentence = sentence.replace('.', '')\r\n",
    "    words = sentence.split(\" \")\r\n",
    "    words = sentence.split(\" \")\r\n",
    "    indexes = []\r\n",
    "    for chem in chemicals:\r\n",
    "        if (\" \" in chem):\r\n",
    "            chem_split = chem.split(\" \")\r\n",
    "            index = words.index(chem_split[-1])\r\n",
    "        else:\r\n",
    "            index = words.index(chem)\r\n",
    "        indexes.append(index)\r\n",
    "    min_index = min(indexes)\r\n",
    "    max_index = max(indexes)\r\n",
    "    tagged = nltk.pos_tag(words)\r\n",
    "    for index in range(min_index + 1, max_index):\r\n",
    "        if (tagged[index][1][:2] == \"RB\"):\r\n",
    "            return False\r\n",
    "    return ABSTAIN"
   ],
   "outputs": [],
   "metadata": {}
  },
  {
   "cell_type": "code",
   "execution_count": 119,
   "source": [
    "# test cases\r\n",
    "print(sep_adverb([\"L-GalDH\"], \"The active fractions from the gel filtration column were further separated by native PAGE, followed by staining for L-GalDH activity.\"))\r\n",
    "print(sep_adverb([\"L-GalDH\"], \"Southern blot analysis revealed that the spinach L-GalDH gene occurs in a single copy.\"))\r\n",
    "print(sep_adverb([\"L-GalL dehydrogenase\"], \"We reported that transcripts of L-GalL dehydrogenase (L-GalLDH), which functions at the last step of the biosynthetic pathway, were expressed in leaves, stems and roots at almost the same level (Yabuta et al. 2000).\"))\r\n",
    "print(sep_adverb([\"L-GalDH\", \"dehydro-AsA\", \"L-GalL\"], \"The L-GalDH activity was not affected by the addition of 1 mM dehydro-AsA (DHA) or 1 mM L-GalL.\"))"
   ],
   "outputs": [
    {
     "output_type": "stream",
     "name": "stdout",
     "text": [
      "-1\n",
      "-1\n",
      "-1\n",
      "False\n"
     ]
    }
   ],
   "metadata": {}
  },
  {
   "cell_type": "code",
   "execution_count": null,
   "source": [],
   "outputs": [],
   "metadata": {}
  }
 ],
 "metadata": {
  "kernelspec": {
   "name": "python3",
   "display_name": "Python 3.9.7 64-bit (windows store)"
  },
  "language_info": {
   "codemirror_mode": {
    "name": "ipython",
    "version": 3
   },
   "file_extension": ".py",
   "mimetype": "text/x-python",
   "name": "python",
   "nbconvert_exporter": "python",
   "pygments_lexer": "ipython3",
   "version": "3.9.7"
  },
  "interpreter": {
   "hash": "00f65aa029e27b5bfb36b1f8c5b84bd40a443dbca505b0e94868b9845c12ad23"
  }
 },
 "nbformat": 4,
 "nbformat_minor": 2
}