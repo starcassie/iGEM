{
 "cells": [
  {
   "cell_type": "markdown",
   "source": [
    "## iGEM labeling functions"
   ],
   "metadata": {}
  },
  {
   "cell_type": "markdown",
   "source": [
    "## example"
   ],
   "metadata": {}
  },
  {
   "cell_type": "code",
   "execution_count": 60,
   "source": [
    "import pandas as pd\r\n",
    "import numpy as np\r\n",
    "import os\r\n",
    "import nltk\r\n",
    "import regex as re\r\n",
    "import ast\r\n",
    "from collections import defaultdict\r\n",
    "# from snorkel.labeling import labeling_function"
   ],
   "outputs": [],
   "metadata": {}
  },
  {
   "cell_type": "code",
   "execution_count": 61,
   "source": [
    "# @labeling_function()\r\n",
    "def oxidation_with_sub_prod(sentence):\r\n",
    "    for word in oxidationWords:\r\n",
    "        if word in sentence.lower:\r\n",
    "            return TRUE\r\n",
    "    return ABSTAIN"
   ],
   "outputs": [],
   "metadata": {}
  },
  {
   "cell_type": "markdown",
   "source": [
    "### my functions"
   ],
   "metadata": {}
  },
  {
   "cell_type": "code",
   "execution_count": 101,
   "source": [
    "test_data = [\r\n",
    "    [[\"carbon\", \"oxygen\"], \"carbon was oxidized by the oxygen\"],\r\n",
    "    [[\"carbon\", \"oxygen\", \"amino acid\", \"cassie\"], \"the cassie amino acid is connected to the carbon which was oxidixed by the oxygen inside the dna\"],\r\n",
    "    \r\n",
    "    [[\"L-GalDH\"], \"The active fractions from the gel filtration column were further separated by native PAGE, followed by staining for L-GalDH activity.\"],\r\n",
    "    [[\"L-GalDH\"], \"Southern blot analysis revealed that the spinach L-GalDH gene occurs in a single copy.\"],\r\n",
    "    [[\"L-GalL dehydrogenase\"], \"We reported that transcripts of L-GalL dehydrogenase (L-GalLDH), which functions at the last step of the biosynthetic pathway, were expressed in leaves, stems and roots at almost the same level (Yabuta et al. 2000).\"],\r\n",
    "    [[\"L-GalDH\", \"dehydro-AsA\", \"L-GalL\"], \"The L-GalDH activity was not affected by the addition of 1 mM dehydro-AsA (DHA) or 1 mM L-GalL.\"]\r\n",
    "]"
   ],
   "outputs": [],
   "metadata": {}
  },
  {
   "cell_type": "code",
   "execution_count": 81,
   "source": [
    "ABSTAIN = -1"
   ],
   "outputs": [],
   "metadata": {}
  },
  {
   "cell_type": "code",
   "execution_count": 88,
   "source": [
    "# LF_general_chemical\r\n",
    "# If one of the chemicals is in a list of common chemical terms such as amino acid, sugar, adenosine, amide, adenine, etc..., we label FALSE\r\n",
    "# https://www.hach.com/chemGlossary   \r\n",
    "common_chemical_terms = [\"amino acid\", \"sugar\", \"adenosine\", \"amide\", \"adenine\", \"acid\", \"algaecide\", \"amines\", \"base\", \"biocides\",\r\n",
    "    \"buffer\", \"clarifier\", \"diluent\", \"hydrocarbon\", \"hydrogenation\", \"molecule\", \"nutrients\", \"polymer\", \"peptide\", \"polypeptide\", \"solute\",\r\n",
    "    \"solvent\", \"suspended\", \"mixture\", \"saturated\", \"unsaturated\"]\r\n",
    "def general_chemical(chemicals):\r\n",
    "    for chem in chemicals:\r\n",
    "        if (chem in common_chemical_terms):\r\n",
    "            return (False)\r\n",
    "    return ABSTAIN"
   ],
   "outputs": [],
   "metadata": {}
  },
  {
   "cell_type": "code",
   "execution_count": 64,
   "source": [
    "# LF_adjacent_mentions\r\n",
    "# If the chemicals are adjacent, we label FALSE\r\n",
    "def adjacent_mentions(chemicals, sentence):\r\n",
    "    for index in range(len(chemicals)):\r\n",
    "        for index_2 in range(index + 1, len(chemicals)):\r\n",
    "            if (chemicals[index] + \" \" + chemicals[index_2] in sentence):\r\n",
    "                return False\r\n",
    "    return ABSTAIN"
   ],
   "outputs": [],
   "metadata": {}
  },
  {
   "cell_type": "code",
   "execution_count": 89,
   "source": [
    "# LF_gene_words\r\n",
    "# If one of the chemicals is in a list of genetic terms such as reductase, dna, gene, we label FALSE\r\n",
    "# \r\n",
    "common_genetic_terms = [\"reductase\", \"dna\", \"gene\", \"allele\", \"locus\", \"genotype\", \"phenotype\", \"dominant\", \"recessive\", \"additive\", \"phenoset\",\r\n",
    "    \"diallelic\", \"multiallelic\", \"polyallelic\", \"monomorphic\", \"monoallelic\", \"polymorphism\", \"mutation\", \"complex\", \"trait\", \"multifactorial\",\r\n",
    "    \"polygenic\", \"monogenic\", \"mixed model\", \"transmission probability\", \"transition probability\", \"epistasis\", \"interaction\", \"pleiotropy\",\r\n",
    "    \"quantitative trait locus\", \"probit\", \"logit\", \"penetrance\", \"transformation\", \"scale of measurement\", \"identity by descent\", \"identity in state\",\r\n",
    "    \"haplotype\", \"phase\", \"multilocus\", \"genotype\", \"allelic\", \"association\", \"linkage\", \"disequilibrium\", \"gametic\"]\r\n",
    "def gene_words(chemicals):\r\n",
    "    for chem in chemicals:\r\n",
    "        if (chem in common_genetic_terms):\r\n",
    "            return False\r\n",
    "    return ABSTAIN\r\n",
    "    "
   ],
   "outputs": [],
   "metadata": {}
  },
  {
   "cell_type": "code",
   "execution_count": 66,
   "source": [
    "# LF_sep_or\r\n",
    "# If the chemicals are separated by or, we label FALSE\r\n",
    "def sep_or(chemicals, sentence):\r\n",
    "    for index in range(len(chemicals)):\r\n",
    "        for index_2 in range(index + 1, len(chemicals)):\r\n",
    "            if (chemicals[index] + \" or \" + chemicals[index_2] in sentence):\r\n",
    "                return False\r\n",
    "    return ABSTAIN"
   ],
   "outputs": [],
   "metadata": {}
  },
  {
   "cell_type": "code",
   "execution_count": 67,
   "source": [
    "# LF_sep_and\r\n",
    "# If the chemicals are separated by and, we label FALSE\r\n",
    "def sep_and(chemicals, sentence):\r\n",
    "    for index in range(len(chemicals)):\r\n",
    "        for index_2 in range(index + 1, len(chemicals)):\r\n",
    "            if (chemicals[index] + \" and \" + chemicals[index_2] in sentence):\r\n",
    "                return False\r\n",
    "    return ABSTAIN"
   ],
   "outputs": [],
   "metadata": {}
  },
  {
   "cell_type": "code",
   "execution_count": 68,
   "source": [
    "# LF_sep_comma\r\n",
    "# If the chemicals are separated by a comma, we label FALSE\r\n",
    "def sep_comma(chemicals, sentence):\r\n",
    "    for index in range(len(chemicals)):\r\n",
    "        for index_2 in range(index + 1, len(chemicals)):\r\n",
    "            if (chemicals[index] + \", \" + chemicals[index_2] in sentence):\r\n",
    "                return False\r\n",
    "    return ABSTAIN"
   ],
   "outputs": [],
   "metadata": {}
  },
  {
   "cell_type": "code",
   "execution_count": 69,
   "source": [
    "# LF_sep_via\r\n",
    "# If the chemicals are separated by via, in, etc, we label FALSE\r\n",
    "common_via_words = [\"via\", \"in\", \"within\", \"through\", \"inside\", \"by\"]\r\n",
    "def sep_via(chemicals, sentence):\r\n",
    "    for index in range(len(chemicals)):\r\n",
    "        for index_2 in range(index + 1, len(chemicals)):\r\n",
    "            for term in common_via_words:\r\n",
    "                if (chemicals[index] + \" \" + term + \" \" + chemicals[index_2] in sentence):\r\n",
    "                    return False\r\n",
    "    return ABSTAIN"
   ],
   "outputs": [],
   "metadata": {}
  },
  {
   "cell_type": "code",
   "execution_count": 70,
   "source": [
    "# LF_sep_sym\r\n",
    "# If the chemicals are separated by a single character, we label FALSE  \r\n",
    "def sep_sym(chemicals, sentence):\r\n",
    "    for index in range(len(chemicals)):\r\n",
    "        chem_1_index = sentence.find(chemicals[index])\r\n",
    "        if (chem_1_index == -1):\r\n",
    "            continue\r\n",
    "        chem_1_len = len(chemicals[index])\r\n",
    "        for index_2 in range(index + 1, len(chemicals)):\r\n",
    "            chem_2_index = sentence.find(chemicals[index_2])\r\n",
    "            if (chem_2_index == -1):\r\n",
    "                continue\r\n",
    "            if (chem_1_index + chem_1_len + 1 == chem_2_index):\r\n",
    "                return False\r\n",
    "    return ABSTAIN"
   ],
   "outputs": [],
   "metadata": {}
  },
  {
   "cell_type": "code",
   "execution_count": 97,
   "source": [
    "# LF_followed_ase\r\n",
    "# If one of the chemicals is followed by a word that ends with -ase, we label FALSE\r\n",
    "def followed_ase(chemicals, sentence):\r\n",
    "    sentence = sentence.replace('.', '')\r\n",
    "    sentence = sentence.replace(',', '')\r\n",
    "    words = sentence.split(\" \")\r\n",
    "    for chem in chemicals:\r\n",
    "        if (\" \" in chem):\r\n",
    "            chem_split = chem.split(\" \")\r\n",
    "            index = words.index(chem_split[-1])\r\n",
    "        else:\r\n",
    "            index = words.index(chem)\r\n",
    "        if (index + 1 < len(words) and words[index + 1][-3:] == \"ase\"):\r\n",
    "            return False\r\n",
    "    return ABSTAIN"
   ],
   "outputs": [],
   "metadata": {}
  },
  {
   "cell_type": "code",
   "execution_count": 90,
   "source": [
    "# LF_group\r\n",
    "# If there is a close mention of a functional chemical group, we label FALSE (as it is more likely descriptive of a structure than of a reaction)\r\n",
    "# https://www.masterorganicchemistry.com/2010/10/06/functional-groups-organic-chemistry/\r\n",
    "common_functional_groups = [\"alkane\", \"alkene\", \"alkyne\", \"benzene ring\", \"phenyl\", \"amine\", \"alcohol\", \"ether\", \"alkyl halide\", \"thiol\",\r\n",
    "    \"aldehyde\", \"ketone\", \"ester\", \"carboxylic acid\", \"amide\", \"nitrile\", \"epoxide\", \"disulfide\", \"imine\", \"acid chloride\", \"anhydride\", \"nitro\",\r\n",
    "    \"sulfide\", \"thioether\"]\r\n",
    "def group(sentence):\r\n",
    "    for group in common_functional_groups:\r\n",
    "        if (group in sentence):\r\n",
    "            return False\r\n",
    "    return ABSTAIN\r\n"
   ],
   "outputs": [],
   "metadata": {}
  },
  {
   "cell_type": "code",
   "execution_count": 96,
   "source": [
    "# LF_followed_by_noun\r\n",
    "# If one of the chemicals is followed by a noun, we label FALSE\r\n",
    "def followed_by_noun(chemicals, sentence):\r\n",
    "    sentence = sentence.replace('.', '')\r\n",
    "    sentence = sentence.replace(',', '')\r\n",
    "    words = sentence.split(\" \")\r\n",
    "    words = sentence.split(\" \")\r\n",
    "    tagged = nltk.pos_tag(words)\r\n",
    "    for chem in chemicals:\r\n",
    "        if (\" \" in chem):\r\n",
    "            chem_split = chem.split(\" \")\r\n",
    "            index = words.index(chem_split[-1])\r\n",
    "        else:\r\n",
    "            index = words.index(chem)\r\n",
    "        if (index + 1 < len(words)):\r\n",
    "            if (tagged[index + 1][1] == \"NN\"):\r\n",
    "                return False\r\n",
    "    return ABSTAIN"
   ],
   "outputs": [],
   "metadata": {}
  },
  {
   "cell_type": "code",
   "execution_count": 74,
   "source": [
    "# test cases\r\n",
    "print(followed_by_noun([\"L-GalDH\"], \"The active fractions from the gel filtration column were further separated by native PAGE, followed by staining for L-GalDH activity.\"))\r\n",
    "print(followed_by_noun([\"L-GalDH\"], \"Southern blot analysis revealed that the spinach L-GalDH gene occurs in a single copy.\"))\r\n",
    "print(followed_by_noun([\"L-GalL dehydrogenase\"], \"We reported that transcripts of L-GalL dehydrogenase (L-GalLDH), which functions at the last step of the biosynthetic pathway, were expressed in leaves, stems and roots at almost the same level (Yabuta et al. 2000).\"))\r\n",
    "print(followed_by_noun([\"L-GalDH\", \"dehydro-AsA\", \"L-GalL\"], \"The L-GalDH activity was not affected by the addition of 1 mM dehydro-AsA (DHA) or 1 mM L-GalL.\"))"
   ],
   "outputs": [
    {
     "output_type": "stream",
     "name": "stdout",
     "text": [
      "False\n",
      "False\n",
      "-1\n",
      "False\n"
     ]
    }
   ],
   "metadata": {}
  },
  {
   "cell_type": "code",
   "execution_count": 98,
   "source": [
    "# LF_sep_verb\r\n",
    "# If the chemicals are separated by a verb, we label TRUE\r\n",
    "def sep_verb(chemicals, sentence):\r\n",
    "    sentence = sentence.replace('.', '')\r\n",
    "    sentence = sentence.replace(',', '')\r\n",
    "    words = sentence.split(\" \")\r\n",
    "    indexes = []\r\n",
    "    for chem in chemicals:\r\n",
    "        if (\" \" in chem):\r\n",
    "            chem_split = chem.split(\" \")\r\n",
    "            index = words.index(chem_split[-1])\r\n",
    "        else:\r\n",
    "            index = words.index(chem)\r\n",
    "        indexes.append(index)\r\n",
    "    min_index = min(indexes)\r\n",
    "    max_index = max(indexes)\r\n",
    "    tagged = nltk.pos_tag(words)\r\n",
    "    for index in range(min_index + 1, max_index):\r\n",
    "        if (tagged[index][1][:2] == \"VB\"):\r\n",
    "            return True\r\n",
    "    return ABSTAIN"
   ],
   "outputs": [],
   "metadata": {}
  },
  {
   "cell_type": "code",
   "execution_count": 76,
   "source": [
    "# test cases\r\n",
    "print(sep_verb([\"L-GalDH\"], \"The active fractions from the gel filtration column were further separated by native PAGE, followed by staining for L-GalDH activity.\"))\r\n",
    "print(sep_verb([\"L-GalDH\"], \"Southern blot analysis revealed that the spinach L-GalDH gene occurs in a single copy.\"))\r\n",
    "print(sep_verb([\"L-GalL dehydrogenase\"], \"We reported that transcripts of L-GalL dehydrogenase (L-GalLDH), which functions at the last step of the biosynthetic pathway, were expressed in leaves, stems and roots at almost the same level (Yabuta et al. 2000).\"))\r\n",
    "print(sep_verb([\"L-GalDH\", \"dehydro-AsA\", \"L-GalL\"], \"The L-GalDH activity was not affected by the addition of 1 mM dehydro-AsA (DHA) or 1 mM L-GalL.\"))"
   ],
   "outputs": [
    {
     "output_type": "stream",
     "name": "stdout",
     "text": [
      "-1\n",
      "-1\n",
      "-1\n",
      "True\n"
     ]
    }
   ],
   "metadata": {}
  },
  {
   "cell_type": "code",
   "execution_count": 99,
   "source": [
    "# LF_sep_adverb\r\n",
    "# If the chemicals are separated by a adverb, we label FALSE\r\n",
    "def sep_adverb(chemicals, sentence):\r\n",
    "    sentence = sentence.replace('.', '')\r\n",
    "    sentence = sentence.replace(',', '')\r\n",
    "    words = sentence.split(\" \")\r\n",
    "    words = sentence.split(\" \")\r\n",
    "    indexes = []\r\n",
    "    for chem in chemicals:\r\n",
    "        if (\" \" in chem):\r\n",
    "            chem_split = chem.split(\" \")\r\n",
    "            index = words.index(chem_split[-1])\r\n",
    "        else:\r\n",
    "            index = words.index(chem)\r\n",
    "        indexes.append(index)\r\n",
    "    min_index = min(indexes)\r\n",
    "    max_index = max(indexes)\r\n",
    "    tagged = nltk.pos_tag(words)\r\n",
    "    for index in range(min_index + 1, max_index):\r\n",
    "        if (tagged[index][1][:2] == \"RB\"):\r\n",
    "            return False\r\n",
    "    return ABSTAIN"
   ],
   "outputs": [],
   "metadata": {}
  },
  {
   "cell_type": "code",
   "execution_count": 78,
   "source": [
    "# test cases\r\n",
    "print(sep_adverb([\"L-GalDH\"], \"The active fractions from the gel filtration column were further separated by native PAGE, followed by staining for L-GalDH activity.\"))\r\n",
    "print(sep_adverb([\"L-GalDH\"], \"Southern blot analysis revealed that the spinach L-GalDH gene occurs in a single copy.\"))\r\n",
    "print(sep_adverb([\"L-GalL dehydrogenase\"], \"We reported that transcripts of L-GalL dehydrogenase (L-GalLDH), which functions at the last step of the biosynthetic pathway, were expressed in leaves, stems and roots at almost the same level (Yabuta et al. 2000).\"))\r\n",
    "print(sep_adverb([\"L-GalDH\", \"dehydro-AsA\", \"L-GalL\"], \"The L-GalDH activity was not affected by the addition of 1 mM dehydro-AsA (DHA) or 1 mM L-GalL.\"))"
   ],
   "outputs": [
    {
     "output_type": "stream",
     "name": "stdout",
     "text": [
      "-1\n",
      "-1\n",
      "-1\n",
      "False\n"
     ]
    }
   ],
   "metadata": {}
  },
  {
   "cell_type": "code",
   "execution_count": 79,
   "source": [
    "# things to fix\r\n",
    "# if the chem is several words\r\n",
    "# creating more test cases\r\n",
    "# current test sentences from https://academic.oup.com/pcp/article/45/9/1271/1857717"
   ],
   "outputs": [],
   "metadata": {}
  },
  {
   "cell_type": "code",
   "execution_count": 102,
   "source": [
    "for data in test_data:\r\n",
    "    print(data)\r\n",
    "    print(\"general chemicals\")\r\n",
    "    print(general_chemical(data[0]))\r\n",
    "    print(\"adjacent mentions\")\r\n",
    "    print(adjacent_mentions(data[0], data[1]))\r\n",
    "    print(\"sep or\")\r\n",
    "    print(sep_or(data[0], data[1]))\r\n",
    "    print(\"sep and\")\r\n",
    "    print(sep_and(data[0], data[1]))\r\n",
    "    print(\"sep comma\")\r\n",
    "    print(sep_comma(data[0], data[1]))\r\n",
    "    print(\"sep via\")\r\n",
    "    print(sep_via(data[0], data[1]))\r\n",
    "    print(\"sep sym\")\r\n",
    "    print(sep_sym(data[0], data[1]))\r\n",
    "    print(\"followed ase\")\r\n",
    "    print(followed_ase(data[0], data[1]))\r\n",
    "    print(\"group\")\r\n",
    "    print(group(data[1]))\r\n",
    "    print(\"followed by noun\")\r\n",
    "    print(followed_by_noun(data[0], data[1]))\r\n",
    "    print(\"sep verb\")\r\n",
    "    print(sep_verb(data[0], data[1]))\r\n",
    "    print(\"sep adverb\")\r\n",
    "    print(sep_adverb(data[0], data[1]))\r\n",
    "    print()"
   ],
   "outputs": [
    {
     "output_type": "stream",
     "name": "stdout",
     "text": [
      "[['carbon', 'oxygen'], 'carbon was oxidized by the oxygen']\n",
      "general chemicals\n",
      "-1\n",
      "adjacent mentions\n",
      "-1\n",
      "sep or\n",
      "-1\n",
      "sep and\n",
      "-1\n",
      "sep comma\n",
      "-1\n",
      "sep via\n",
      "-1\n",
      "sep sym\n",
      "-1\n",
      "followed ase\n",
      "-1\n",
      "group\n",
      "-1\n",
      "followed by noun\n",
      "-1\n",
      "sep verb\n",
      "True\n",
      "sep adverb\n",
      "-1\n",
      "\n",
      "[['carbon', 'oxygen', 'amino acid', 'cassie'], 'the cassie amino acid is connected to the carbon which was oxidixed by the oxygen inside the dna']\n",
      "general chemicals\n",
      "False\n",
      "adjacent mentions\n",
      "-1\n",
      "sep or\n",
      "-1\n",
      "sep and\n",
      "-1\n",
      "sep comma\n",
      "-1\n",
      "sep via\n",
      "-1\n",
      "sep sym\n",
      "-1\n",
      "followed ase\n",
      "-1\n",
      "group\n",
      "-1\n",
      "followed by noun\n",
      "False\n",
      "sep verb\n",
      "True\n",
      "sep adverb\n",
      "-1\n",
      "\n",
      "[['L-GalDH'], 'The active fractions from the gel filtration column were further separated by native PAGE, followed by staining for L-GalDH activity.']\n",
      "general chemicals\n",
      "-1\n",
      "adjacent mentions\n",
      "-1\n",
      "sep or\n",
      "-1\n",
      "sep and\n",
      "-1\n",
      "sep comma\n",
      "-1\n",
      "sep via\n",
      "-1\n",
      "sep sym\n",
      "-1\n",
      "followed ase\n",
      "-1\n",
      "group\n",
      "-1\n",
      "followed by noun\n",
      "False\n",
      "sep verb\n",
      "-1\n",
      "sep adverb\n",
      "-1\n",
      "\n",
      "[['L-GalDH'], 'Southern blot analysis revealed that the spinach L-GalDH gene occurs in a single copy.']\n",
      "general chemicals\n",
      "-1\n",
      "adjacent mentions\n",
      "-1\n",
      "sep or\n",
      "-1\n",
      "sep and\n",
      "-1\n",
      "sep comma\n",
      "-1\n",
      "sep via\n",
      "-1\n",
      "sep sym\n",
      "-1\n",
      "followed ase\n",
      "-1\n",
      "group\n",
      "-1\n",
      "followed by noun\n",
      "False\n",
      "sep verb\n",
      "-1\n",
      "sep adverb\n",
      "-1\n",
      "\n",
      "[['L-GalL dehydrogenase'], 'We reported that transcripts of L-GalL dehydrogenase (L-GalLDH), which functions at the last step of the biosynthetic pathway, were expressed in leaves, stems and roots at almost the same level (Yabuta et al. 2000).']\n",
      "general chemicals\n",
      "-1\n",
      "adjacent mentions\n",
      "-1\n",
      "sep or\n",
      "-1\n",
      "sep and\n",
      "-1\n",
      "sep comma\n",
      "-1\n",
      "sep via\n",
      "-1\n",
      "sep sym\n",
      "-1\n",
      "followed ase\n",
      "-1\n",
      "group\n",
      "-1\n",
      "followed by noun\n",
      "-1\n",
      "sep verb\n",
      "-1\n",
      "sep adverb\n",
      "-1\n",
      "\n",
      "[['L-GalDH', 'dehydro-AsA', 'L-GalL'], 'The L-GalDH activity was not affected by the addition of 1 mM dehydro-AsA (DHA) or 1 mM L-GalL.']\n",
      "general chemicals\n",
      "-1\n",
      "adjacent mentions\n",
      "-1\n",
      "sep or\n",
      "-1\n",
      "sep and\n",
      "-1\n",
      "sep comma\n",
      "-1\n",
      "sep via\n",
      "-1\n",
      "sep sym\n",
      "-1\n",
      "followed ase\n",
      "-1\n",
      "group\n",
      "-1\n",
      "followed by noun\n",
      "False\n",
      "sep verb\n",
      "True\n",
      "sep adverb\n",
      "False\n",
      "\n"
     ]
    }
   ],
   "metadata": {}
  },
  {
   "cell_type": "code",
   "execution_count": null,
   "source": [],
   "outputs": [],
   "metadata": {}
  }
 ],
 "metadata": {
  "kernelspec": {
   "name": "python3",
   "display_name": "Python 3.9.7 64-bit (windows store)"
  },
  "language_info": {
   "codemirror_mode": {
    "name": "ipython",
    "version": 3
   },
   "file_extension": ".py",
   "mimetype": "text/x-python",
   "name": "python",
   "nbconvert_exporter": "python",
   "pygments_lexer": "ipython3",
   "version": "3.9.7"
  },
  "interpreter": {
   "hash": "00f65aa029e27b5bfb36b1f8c5b84bd40a443dbca505b0e94868b9845c12ad23"
  }
 },
 "nbformat": 4,
 "nbformat_minor": 2
}